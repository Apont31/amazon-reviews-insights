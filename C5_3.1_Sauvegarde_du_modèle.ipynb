{
 "cells": [
  {
   "cell_type": "markdown",
   "id": "37a4e544",
   "metadata": {},
   "source": [
    "Dans models/ :\n",
    "\n",
    "features_tfidf_runtime_full_YYYYMMDD_HHMMSS.joblib\n",
    "contient {\"vectorizer_word\", \"vectorizer_char\", \"created\", \"params\"}.\n",
    "\n",
    "sentiment_bundle_runtime_YYYYMMDD_HHMMSS.joblib\n",
    "contient {\"model\",\"selector_chi2\",\"vectorizer_word\",\"vectorizer_char\",\"threshold\",\"meta\"}.\n",
    "\n",
    "sentiment_metrics_YYYYMMDD_HHMMSS.json\n",
    "AP/ROC/F1, seuil t*, tailles splits, etc. (petit JSON).\n",
    "\n",
    "(optionnel) registry.jsonl — un journal ligne-par-ligne de tous les artefacts."
   ]
  },
  {
   "cell_type": "code",
   "execution_count": 9,
   "id": "d72ae437",
   "metadata": {},
   "outputs": [],
   "source": [
    "# === C5.3.1 — util d'enregistrement inline ===\n",
    "from pathlib import Path\n",
    "import json, hashlib, platform, datetime, os\n",
    "\n",
    "def _sha256(p: Path, buf=1024*1024):\n",
    "    h = hashlib.sha256()\n",
    "    with p.open(\"rb\") as f:\n",
    "        while True:\n",
    "            b = f.read(buf)\n",
    "            if not b: break\n",
    "            h.update(b)\n",
    "    return h.hexdigest()\n",
    "\n",
    "def register_artifact(task: str, filepath: Path, extra: dict | None = None):\n",
    "    filepath = Path(filepath); assert filepath.exists(), filepath\n",
    "    rec = {\n",
    "        \"task\": task,\n",
    "        \"artifact\": filepath.as_posix(),\n",
    "        \"hash\": _sha256(filepath),\n",
    "        \"created\": datetime.datetime.now().strftime(\"%Y-%m-%d %H:%M:%S\"),\n",
    "        \"python\": platform.python_version(),\n",
    "        \"git\": os.environ.get(\"GIT_COMMIT\", \"NA\"),\n",
    "        **(extra or {})\n",
    "    }\n",
    "    reg = Path(\"models/registry.jsonl\"); reg.parent.mkdir(parents=True, exist_ok=True)\n",
    "    with reg.open(\"a\", encoding=\"utf-8\") as f:\n",
    "        f.write(json.dumps(rec, ensure_ascii=False) + \"\\n\")\n",
    "    print(\"Registered:\", rec)"
   ]
  },
  {
   "cell_type": "code",
   "execution_count": 10,
   "id": "7da04851",
   "metadata": {},
   "outputs": [
    {
     "name": "stdout",
     "output_type": "stream",
     "text": [
      "Registered: {'task': 'sentiment/tfidf', 'artifact': 'models/features_tfidf_runtime_full_20250922_045623.joblib', 'hash': '15484e9de2da0f0a48d8d6d1996b362d5b94499deb2dc6ef56155dfe67b4bd90', 'created': '2025-09-22 15:04:29', 'python': '3.11.5', 'git': 'NA', 'kind': 'tfidf'}\n",
      "Registered: {'task': 'sentiment/bundle', 'artifact': 'models/sentiment_bundle_runtime_20250922_045812.joblib', 'hash': 'dae940e788d6defcd5a4b8c79b96754b02151ec67a3ba558653e05d497de43b6', 'created': '2025-09-22 15:04:29', 'python': '3.11.5', 'git': 'NA', 'kind': 'bundle', 'k_out': 50000}\n",
      "Registered: {'task': 'sentiment/metrics', 'artifact': 'models/sentiment_metrics_stub_20250922_150431.json', 'hash': '646c7be45496fb5a241fd75b4bf03e5302b89343f5f0dbdeff526f0a96505f6e', 'created': '2025-09-22 15:04:31', 'python': '3.11.5', 'git': 'NA', 'kind': 'metrics_stub'}\n"
     ]
    }
   ],
   "source": [
    "# === C5.3.1 — post-enregistrement des artefacts déjà présents dans models/ ===\n",
    "from pathlib import Path\n",
    "import json, time\n",
    "from joblib import load\n",
    "\n",
    "MODELS = Path(\"models\")\n",
    "\n",
    "# 1) TF-IDF (si disponible)\n",
    "tfidf = sorted(MODELS.glob(\"features_tfidf_runtime_full_*.joblib\"))\n",
    "if tfidf:\n",
    "    register_artifact(\"sentiment/tfidf\", tfidf[-1], {\"kind\":\"tfidf\"})\n",
    "else:\n",
    "    print(\"⚠️ Aucun TF-IDF runtime trouvé (features_tfidf_runtime_full_*.joblib).\")\n",
    "\n",
    "# 2) Sentiment bundle (obligatoire)\n",
    "bundles = sorted(MODELS.glob(\"sentiment_bundle_runtime_*.joblib\"))\n",
    "assert bundles, \"Aucun bundle sentiment trouvé dans models/.\"\n",
    "bundle_path = bundles[-1]\n",
    "register_artifact(\"sentiment/bundle\", bundle_path, {\"kind\":\"bundle\",\"k_out\": 50000})\n",
    "\n",
    "# 3) Metrics JSON : on prend le plus récent ; sinon on en crée un minimal depuis le bundle.meta\n",
    "metrics = sorted(MODELS.glob(\"sentiment_metrics_*.json\"))\n",
    "if metrics:\n",
    "    register_artifact(\"sentiment/metrics\", metrics[-1], {\"kind\":\"metrics\"})\n",
    "else:\n",
    "    b = load(bundle_path)\n",
    "    meta = b.get(\"meta\", {})\n",
    "    stub = {\n",
    "        \"threshold\": float(b.get(\"threshold\", 0.5)),\n",
    "        \"n_rows\": meta.get(\"n_rows\"),\n",
    "        \"split\": meta.get(\"split\"),\n",
    "        \"note\": \"metrics minimal auto (AP/F1 non disponibles car non trouvés).\"\n",
    "    }\n",
    "    stamp = time.strftime(\"%Y%m%d_%H%M%S\")\n",
    "    mjson = MODELS / f\"sentiment_metrics_stub_{stamp}.json\"\n",
    "    mjson.write_text(json.dumps(stub, indent=2), encoding=\"utf-8\")\n",
    "    register_artifact(\"sentiment/metrics\", mjson, {\"kind\":\"metrics_stub\"})"
   ]
  },
  {
   "cell_type": "code",
   "execution_count": 12,
   "id": "28242a98",
   "metadata": {},
   "outputs": [
    {
     "data": {
      "application/vnd.microsoft.datawrangler.viewer.v0+json": {
       "columns": [
        {
         "name": "index",
         "rawType": "int64",
         "type": "integer"
        },
        {
         "name": "task",
         "rawType": "object",
         "type": "string"
        },
        {
         "name": "artifact",
         "rawType": "object",
         "type": "string"
        },
        {
         "name": "hash",
         "rawType": "object",
         "type": "string"
        },
        {
         "name": "created",
         "rawType": "object",
         "type": "string"
        },
        {
         "name": "python",
         "rawType": "object",
         "type": "string"
        }
       ],
       "ref": "fe4132fc-3488-493f-933c-f8df32bc6789",
       "rows": [
        [
         "2",
         "sentiment/metrics",
         "models/sentiment_metrics_stub_20250922_150431.json",
         "646c7be45496fb5a241fd75b4bf03e5302b89343f5f0dbdeff526f0a96505f6e",
         "2025-09-22 15:04:31",
         "3.11.5"
        ],
        [
         "0",
         "sentiment/tfidf",
         "models/features_tfidf_runtime_full_20250922_045623.joblib",
         "15484e9de2da0f0a48d8d6d1996b362d5b94499deb2dc6ef56155dfe67b4bd90",
         "2025-09-22 15:04:29",
         "3.11.5"
        ],
        [
         "1",
         "sentiment/bundle",
         "models/sentiment_bundle_runtime_20250922_045812.joblib",
         "dae940e788d6defcd5a4b8c79b96754b02151ec67a3ba558653e05d497de43b6",
         "2025-09-22 15:04:29",
         "3.11.5"
        ]
       ],
       "shape": {
        "columns": 5,
        "rows": 3
       }
      },
      "text/html": [
       "<div>\n",
       "<style scoped>\n",
       "    .dataframe tbody tr th:only-of-type {\n",
       "        vertical-align: middle;\n",
       "    }\n",
       "\n",
       "    .dataframe tbody tr th {\n",
       "        vertical-align: top;\n",
       "    }\n",
       "\n",
       "    .dataframe thead th {\n",
       "        text-align: right;\n",
       "    }\n",
       "</style>\n",
       "<table border=\"1\" class=\"dataframe\">\n",
       "  <thead>\n",
       "    <tr style=\"text-align: right;\">\n",
       "      <th></th>\n",
       "      <th>task</th>\n",
       "      <th>artifact</th>\n",
       "      <th>hash</th>\n",
       "      <th>created</th>\n",
       "      <th>python</th>\n",
       "    </tr>\n",
       "  </thead>\n",
       "  <tbody>\n",
       "    <tr>\n",
       "      <th>2</th>\n",
       "      <td>sentiment/metrics</td>\n",
       "      <td>models/sentiment_metrics_stub_20250922_150431....</td>\n",
       "      <td>646c7be45496fb5a241fd75b4bf03e5302b89343f5f0db...</td>\n",
       "      <td>2025-09-22 15:04:31</td>\n",
       "      <td>3.11.5</td>\n",
       "    </tr>\n",
       "    <tr>\n",
       "      <th>0</th>\n",
       "      <td>sentiment/tfidf</td>\n",
       "      <td>models/features_tfidf_runtime_full_20250922_04...</td>\n",
       "      <td>15484e9de2da0f0a48d8d6d1996b362d5b94499deb2dc6...</td>\n",
       "      <td>2025-09-22 15:04:29</td>\n",
       "      <td>3.11.5</td>\n",
       "    </tr>\n",
       "    <tr>\n",
       "      <th>1</th>\n",
       "      <td>sentiment/bundle</td>\n",
       "      <td>models/sentiment_bundle_runtime_20250922_04581...</td>\n",
       "      <td>dae940e788d6defcd5a4b8c79b96754b02151ec67a3ba5...</td>\n",
       "      <td>2025-09-22 15:04:29</td>\n",
       "      <td>3.11.5</td>\n",
       "    </tr>\n",
       "  </tbody>\n",
       "</table>\n",
       "</div>"
      ],
      "text/plain": [
       "                task                                           artifact  \\\n",
       "2  sentiment/metrics  models/sentiment_metrics_stub_20250922_150431....   \n",
       "0    sentiment/tfidf  models/features_tfidf_runtime_full_20250922_04...   \n",
       "1   sentiment/bundle  models/sentiment_bundle_runtime_20250922_04581...   \n",
       "\n",
       "                                                hash              created  \\\n",
       "2  646c7be45496fb5a241fd75b4bf03e5302b89343f5f0db...  2025-09-22 15:04:31   \n",
       "0  15484e9de2da0f0a48d8d6d1996b362d5b94499deb2dc6...  2025-09-22 15:04:29   \n",
       "1  dae940e788d6defcd5a4b8c79b96754b02151ec67a3ba5...  2025-09-22 15:04:29   \n",
       "\n",
       "   python  \n",
       "2  3.11.5  \n",
       "0  3.11.5  \n",
       "1  3.11.5  "
      ]
     },
     "metadata": {},
     "output_type": "display_data"
    }
   ],
   "source": [
    "# === C5.3.1 — contrôle du registre ===\n",
    "from pathlib import Path\n",
    "import json\n",
    "import pandas as pd\n",
    "\n",
    "reg = Path(\"models/registry.jsonl\")\n",
    "assert reg.exists(), \"Aucun registre trouvé (models/registry.jsonl).\"\n",
    "rows = [json.loads(l) for l in reg.read_text(encoding=\"utf-8\").splitlines()]\n",
    "df = pd.DataFrame(rows).sort_values(\"created\", ascending=False)\n",
    "display(df[[\"task\",\"artifact\",\"hash\",\"created\",\"python\"]])"
   ]
  },
  {
   "cell_type": "code",
   "execution_count": null,
   "id": "28182287",
   "metadata": {},
   "outputs": [],
   "source": []
  }
 ],
 "metadata": {
  "kernelspec": {
   "display_name": ".venv",
   "language": "python",
   "name": "python3"
  },
  "language_info": {
   "codemirror_mode": {
    "name": "ipython",
    "version": 3
   },
   "file_extension": ".py",
   "mimetype": "text/x-python",
   "name": "python",
   "nbconvert_exporter": "python",
   "pygments_lexer": "ipython3",
   "version": "3.11.5"
  }
 },
 "nbformat": 4,
 "nbformat_minor": 5
}
