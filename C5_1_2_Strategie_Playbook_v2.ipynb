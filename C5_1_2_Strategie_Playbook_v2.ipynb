{
 "cells": [
  {
   "cell_type": "markdown",
   "id": "8d1c8fa9",
   "metadata": {},
   "source": [
    "\n",
    "# 🧭 C5.1.2 — Stratégie de résolution (v2, sans doublons)\n",
    "\n",
    "**But :** détailler la **stratégie** (tâches, algos, plan d'expérience) **sans répéter** l'EDA/normalisation de C5.1.1.  \n",
    "On **référence** les KPI définis en 1.1 et on **lit** le dataset *normalisé* produit par 1.1.\n"
   ]
  },
  {
   "cell_type": "markdown",
   "id": "8d1abefc",
   "metadata": {},
   "source": [
    "\n",
    "## 🎙️ Discours (1–2 min)\n",
    "> « Nous décomposons en **trois sous-tâches** : Émotions (multi-label), **ABSA** (aspects + polarité), **Sarcasme**.  \n",
    "> Démarche **progressive** : baselines `scikit-learn` → extensions `HF` si ROI.  \n",
    "> Nous **réutilisons** le dataset **normalisé** de C5.1.1 pour garantir la **reproductibilité** et éviter les doublons.  \n",
    "> Les **KPI** fixés en 1.1 guident les choix (F1-macro, AUC, latence). »\n"
   ]
  },
  {
   "cell_type": "markdown",
   "id": "daea0948",
   "metadata": {},
   "source": [
    "## ⚙️ 0) Configuration"
   ]
  },
  {
   "cell_type": "code",
   "execution_count": 1,
   "id": "69ad2660",
   "metadata": {},
   "outputs": [
    {
     "data": {
      "text/plain": [
       "(WindowsPath('data/interim/amazon_electronics_normalized.parquet'),\n",
       " WindowsPath('C:/Users/antoi/OneDrive/Documents/Ynov/Projet fil rouge/Bloc 5/amazon-reviews-insights/data/amazon_insights.csv'))"
      ]
     },
     "execution_count": 1,
     "metadata": {},
     "output_type": "execute_result"
    }
   ],
   "source": [
    "\n",
    "from pathlib import Path\n",
    "\n",
    "# On consomme le dataset normalisé émis par C5.1.1\n",
    "PARQUET_NORM = Path(\"data/interim/amazon_electronics_normalized.parquet\")\n",
    "CSV_RAW      = Path(\"C:/Users/antoi/OneDrive/Documents/Ynov/Projet fil rouge/Bloc 5/amazon-reviews-insights/data/amazon_insights.csv\")  # fallback si besoin\n",
    "\n",
    "PARQUET_NORM, CSV_RAW"
   ]
  },
  {
   "cell_type": "markdown",
   "id": "810f10fb",
   "metadata": {},
   "source": [
    "## 📥 1) Chargement (sans re-normaliser)"
   ]
  },
  {
   "cell_type": "code",
   "execution_count": 2,
   "id": "69ed555b",
   "metadata": {},
   "outputs": [
    {
     "name": "stdout",
     "output_type": "stream",
     "text": [
      "✓ Chargé depuis le dataset normalisé : data\\interim\\amazon_electronics_normalized.parquet\n",
      "Shape: (1314720, 11)\n"
     ]
    },
    {
     "data": {
      "application/vnd.microsoft.datawrangler.viewer.v0+json": {
       "columns": [
        {
         "name": "index",
         "rawType": "int64",
         "type": "integer"
        },
        {
         "name": "review_body",
         "rawType": "object",
         "type": "string"
        },
        {
         "name": "review_title",
         "rawType": "object",
         "type": "string"
        },
        {
         "name": "star_rating",
         "rawType": "float64",
         "type": "float"
        },
        {
         "name": "review_date",
         "rawType": "datetime64[ns]",
         "type": "datetime"
        },
        {
         "name": "product_title",
         "rawType": "object",
         "type": "string"
        },
        {
         "name": "product_id",
         "rawType": "object",
         "type": "string"
        },
        {
         "name": "helpful_vote",
         "rawType": "int64",
         "type": "integer"
        },
        {
         "name": "verified_purchase",
         "rawType": "bool",
         "type": "boolean"
        },
        {
         "name": "main_category",
         "rawType": "object",
         "type": "string"
        },
        {
         "name": "categories",
         "rawType": "object",
         "type": "string"
        },
        {
         "name": "user_id",
         "rawType": "object",
         "type": "string"
        }
       ],
       "ref": "c1c12061-41f6-4582-818b-5c521e8e4bb3",
       "rows": [
        [
         "0",
         "All OK and as described.",
         "Five Stars",
         "5.0",
         "2015-02-04 20:13:26",
         "OOOUSE XT60 Connector Pairs - Pack of 5 pairs",
         "B005FAPYXS",
         "0",
         "True",
         "Industrial & Scientific",
         "['Electronics' 'Home Audio' 'Home Audio Accessories'\n 'Connectors & Adapters']",
         "AES2QJS66UB66K2C7MNRDSEOOGAQ"
        ],
        [
         "1",
         "Great but how can you go wrong.",
         "Five Stars",
         "5.0",
         "2016-08-21 00:48:38",
         "OOOUSE XT60 Connector Pairs - Pack of 5 pairs",
         "B005FAPYXS",
         "0",
         "True",
         "Industrial & Scientific",
         "['Electronics' 'Home Audio' 'Home Audio Accessories'\n 'Connectors & Adapters']",
         "AE5W7TDLLOZD62AGZRS56SOM7KOA"
        ],
        [
         "2",
         "Don't waste your money!!  Connectors won't plug into each other making them useless.",
         "Very poor manufacturing",
         "1.0",
         "2017-03-06 15:53:57",
         "OOOUSE XT60 Connector Pairs - Pack of 5 pairs",
         "B005FAPYXS",
         "1",
         "True",
         "Industrial & Scientific",
         "['Electronics' 'Home Audio' 'Home Audio Accessories'\n 'Connectors & Adapters']",
         "AF76HWTTIDICDKSGWLHROHVXO4HA"
        ]
       ],
       "shape": {
        "columns": 11,
        "rows": 3
       }
      },
      "text/html": [
       "<div>\n",
       "<style scoped>\n",
       "    .dataframe tbody tr th:only-of-type {\n",
       "        vertical-align: middle;\n",
       "    }\n",
       "\n",
       "    .dataframe tbody tr th {\n",
       "        vertical-align: top;\n",
       "    }\n",
       "\n",
       "    .dataframe thead th {\n",
       "        text-align: right;\n",
       "    }\n",
       "</style>\n",
       "<table border=\"1\" class=\"dataframe\">\n",
       "  <thead>\n",
       "    <tr style=\"text-align: right;\">\n",
       "      <th></th>\n",
       "      <th>review_body</th>\n",
       "      <th>review_title</th>\n",
       "      <th>star_rating</th>\n",
       "      <th>review_date</th>\n",
       "      <th>product_title</th>\n",
       "      <th>product_id</th>\n",
       "      <th>helpful_vote</th>\n",
       "      <th>verified_purchase</th>\n",
       "      <th>main_category</th>\n",
       "      <th>categories</th>\n",
       "      <th>user_id</th>\n",
       "    </tr>\n",
       "  </thead>\n",
       "  <tbody>\n",
       "    <tr>\n",
       "      <th>0</th>\n",
       "      <td>All OK and as described.</td>\n",
       "      <td>Five Stars</td>\n",
       "      <td>5.0</td>\n",
       "      <td>2015-02-04 20:13:26</td>\n",
       "      <td>OOOUSE XT60 Connector Pairs - Pack of 5 pairs</td>\n",
       "      <td>B005FAPYXS</td>\n",
       "      <td>0</td>\n",
       "      <td>True</td>\n",
       "      <td>Industrial &amp; Scientific</td>\n",
       "      <td>['Electronics' 'Home Audio' 'Home Audio Access...</td>\n",
       "      <td>AES2QJS66UB66K2C7MNRDSEOOGAQ</td>\n",
       "    </tr>\n",
       "    <tr>\n",
       "      <th>1</th>\n",
       "      <td>Great but how can you go wrong.</td>\n",
       "      <td>Five Stars</td>\n",
       "      <td>5.0</td>\n",
       "      <td>2016-08-21 00:48:38</td>\n",
       "      <td>OOOUSE XT60 Connector Pairs - Pack of 5 pairs</td>\n",
       "      <td>B005FAPYXS</td>\n",
       "      <td>0</td>\n",
       "      <td>True</td>\n",
       "      <td>Industrial &amp; Scientific</td>\n",
       "      <td>['Electronics' 'Home Audio' 'Home Audio Access...</td>\n",
       "      <td>AE5W7TDLLOZD62AGZRS56SOM7KOA</td>\n",
       "    </tr>\n",
       "    <tr>\n",
       "      <th>2</th>\n",
       "      <td>Don't waste your money!!  Connectors won't plu...</td>\n",
       "      <td>Very poor manufacturing</td>\n",
       "      <td>1.0</td>\n",
       "      <td>2017-03-06 15:53:57</td>\n",
       "      <td>OOOUSE XT60 Connector Pairs - Pack of 5 pairs</td>\n",
       "      <td>B005FAPYXS</td>\n",
       "      <td>1</td>\n",
       "      <td>True</td>\n",
       "      <td>Industrial &amp; Scientific</td>\n",
       "      <td>['Electronics' 'Home Audio' 'Home Audio Access...</td>\n",
       "      <td>AF76HWTTIDICDKSGWLHROHVXO4HA</td>\n",
       "    </tr>\n",
       "  </tbody>\n",
       "</table>\n",
       "</div>"
      ],
      "text/plain": [
       "                                         review_body             review_title  \\\n",
       "0                           All OK and as described.               Five Stars   \n",
       "1                    Great but how can you go wrong.               Five Stars   \n",
       "2  Don't waste your money!!  Connectors won't plu...  Very poor manufacturing   \n",
       "\n",
       "   star_rating         review_date  \\\n",
       "0          5.0 2015-02-04 20:13:26   \n",
       "1          5.0 2016-08-21 00:48:38   \n",
       "2          1.0 2017-03-06 15:53:57   \n",
       "\n",
       "                                   product_title  product_id  helpful_vote  \\\n",
       "0  OOOUSE XT60 Connector Pairs - Pack of 5 pairs  B005FAPYXS             0   \n",
       "1  OOOUSE XT60 Connector Pairs - Pack of 5 pairs  B005FAPYXS             0   \n",
       "2  OOOUSE XT60 Connector Pairs - Pack of 5 pairs  B005FAPYXS             1   \n",
       "\n",
       "   verified_purchase            main_category  \\\n",
       "0               True  Industrial & Scientific   \n",
       "1               True  Industrial & Scientific   \n",
       "2               True  Industrial & Scientific   \n",
       "\n",
       "                                          categories  \\\n",
       "0  ['Electronics' 'Home Audio' 'Home Audio Access...   \n",
       "1  ['Electronics' 'Home Audio' 'Home Audio Access...   \n",
       "2  ['Electronics' 'Home Audio' 'Home Audio Access...   \n",
       "\n",
       "                        user_id  \n",
       "0  AES2QJS66UB66K2C7MNRDSEOOGAQ  \n",
       "1  AE5W7TDLLOZD62AGZRS56SOM7KOA  \n",
       "2  AF76HWTTIDICDKSGWLHROHVXO4HA  "
      ]
     },
     "execution_count": 2,
     "metadata": {},
     "output_type": "execute_result"
    }
   ],
   "source": [
    "\n",
    "import pandas as pd\n",
    "\n",
    "if PARQUET_NORM.exists():\n",
    "    df = pd.read_parquet(PARQUET_NORM)\n",
    "    print(\"✓ Chargé depuis le dataset normalisé :\", PARQUET_NORM)\n",
    "else:\n",
    "    raise FileNotFoundError(\"Le dataset normalisé est introuvable. Exécute d'abord C5.1.1 pour le générer.\")\n",
    "    \n",
    "# Vérif colonnes minimales attendues\n",
    "need = [\"review_body\",\"star_rating\"]\n",
    "assert all(c in df.columns for c in need), f\"Colonnes manquantes {need} dans le dataset normalisé.\"\n",
    "print(\"Shape:\", df.shape)\n",
    "df.head(3)"
   ]
  },
  {
   "cell_type": "markdown",
   "id": "9b9b576e",
   "metadata": {},
   "source": [
    "## 🧩 2) Décomposition des tâches & algorithmes"
   ]
  },
  {
   "cell_type": "code",
   "execution_count": 3,
   "id": "786ddbd9",
   "metadata": {},
   "outputs": [
    {
     "data": {
      "application/vnd.microsoft.datawrangler.viewer.v0+json": {
       "columns": [
        {
         "name": "index",
         "rawType": "int64",
         "type": "integer"
        },
        {
         "name": "Tâche",
         "rawType": "object",
         "type": "string"
        },
        {
         "name": "Baseline",
         "rawType": "object",
         "type": "string"
        },
        {
         "name": "Extension",
         "rawType": "object",
         "type": "string"
        }
       ],
       "ref": "dadfde1d-19fe-4d37-a063-4f98a4449937",
       "rows": [
        [
         "0",
         "Émotions (multi-label)",
         "TF-IDF + LogReg (proxy)",
         "GoEmotions (HF)"
        ],
        [
         "1",
         "ABSA (aspects + polarité)",
         "KeyBERT/spaCy + LogReg",
         "HF (token/seq labeling)"
        ],
        [
         "2",
         "Sarcasme/ironie",
         "Proxy/erreurs + modèle simple",
         "roberta-base-irony + calibration"
        ]
       ],
       "shape": {
        "columns": 3,
        "rows": 3
       }
      },
      "text/html": [
       "<div>\n",
       "<style scoped>\n",
       "    .dataframe tbody tr th:only-of-type {\n",
       "        vertical-align: middle;\n",
       "    }\n",
       "\n",
       "    .dataframe tbody tr th {\n",
       "        vertical-align: top;\n",
       "    }\n",
       "\n",
       "    .dataframe thead th {\n",
       "        text-align: right;\n",
       "    }\n",
       "</style>\n",
       "<table border=\"1\" class=\"dataframe\">\n",
       "  <thead>\n",
       "    <tr style=\"text-align: right;\">\n",
       "      <th></th>\n",
       "      <th>Tâche</th>\n",
       "      <th>Baseline</th>\n",
       "      <th>Extension</th>\n",
       "    </tr>\n",
       "  </thead>\n",
       "  <tbody>\n",
       "    <tr>\n",
       "      <th>0</th>\n",
       "      <td>Émotions (multi-label)</td>\n",
       "      <td>TF-IDF + LogReg (proxy)</td>\n",
       "      <td>GoEmotions (HF)</td>\n",
       "    </tr>\n",
       "    <tr>\n",
       "      <th>1</th>\n",
       "      <td>ABSA (aspects + polarité)</td>\n",
       "      <td>KeyBERT/spaCy + LogReg</td>\n",
       "      <td>HF (token/seq labeling)</td>\n",
       "    </tr>\n",
       "    <tr>\n",
       "      <th>2</th>\n",
       "      <td>Sarcasme/ironie</td>\n",
       "      <td>Proxy/erreurs + modèle simple</td>\n",
       "      <td>roberta-base-irony + calibration</td>\n",
       "    </tr>\n",
       "  </tbody>\n",
       "</table>\n",
       "</div>"
      ],
      "text/plain": [
       "                       Tâche                       Baseline  \\\n",
       "0     Émotions (multi-label)        TF-IDF + LogReg (proxy)   \n",
       "1  ABSA (aspects + polarité)         KeyBERT/spaCy + LogReg   \n",
       "2            Sarcasme/ironie  Proxy/erreurs + modèle simple   \n",
       "\n",
       "                          Extension  \n",
       "0                   GoEmotions (HF)  \n",
       "1           HF (token/seq labeling)  \n",
       "2  roberta-base-irony + calibration  "
      ]
     },
     "execution_count": 3,
     "metadata": {},
     "output_type": "execute_result"
    }
   ],
   "source": [
    "\n",
    "tasks = pd.DataFrame([\n",
    "    {\"Tâche\": \"Émotions (multi-label)\", \"Baseline\": \"TF-IDF + LogReg (proxy)\", \"Extension\": \"GoEmotions (HF)\"},\n",
    "    {\"Tâche\": \"ABSA (aspects + polarité)\", \"Baseline\": \"KeyBERT/spaCy + LogReg\", \"Extension\": \"HF (token/seq labeling)\"},\n",
    "    {\"Tâche\": \"Sarcasme/ironie\", \"Baseline\": \"Proxy/erreurs + modèle simple\", \"Extension\": \"roberta-base-irony + calibration\"}\n",
    "])\n",
    "tasks\n"
   ]
  },
  {
   "cell_type": "markdown",
   "id": "beed63d3",
   "metadata": {},
   "source": [
    "## 🧱 3) Recettes Features/Modèles (prêtes pour C5.2.x)"
   ]
  },
  {
   "cell_type": "code",
   "execution_count": 4,
   "id": "2dba820f",
   "metadata": {},
   "outputs": [
    {
     "data": {
      "text/plain": [
       "(FeatureRecipe(kind='tfidf_word', selectk=20000, svd=0),\n",
       " ModelRecipe(name='logreg', calibration='isotonic'))"
      ]
     },
     "execution_count": 4,
     "metadata": {},
     "output_type": "execute_result"
    }
   ],
   "source": [
    "\n",
    "from dataclasses import dataclass\n",
    "\n",
    "@dataclass\n",
    "class FeatureRecipe:\n",
    "    kind: str               # 'tfidf_word' | 'tfidf_char' | 'sbert' (plus tard)\n",
    "    selectk: int = 20000\n",
    "    svd: int = 0\n",
    "\n",
    "@dataclass\n",
    "class ModelRecipe:\n",
    "    name: str               # 'logreg' | 'complement_nb' | 'hgb_svd'\n",
    "    calibration: str = 'isotonic'\n",
    "\n",
    "MVP_FEATURES = FeatureRecipe(kind='tfidf_word', selectk=20000, svd=0)\n",
    "MVP_MODEL   = ModelRecipe(name='logreg', calibration='isotonic')\n",
    "MVP_FEATURES, MVP_MODEL"
   ]
  },
  {
   "cell_type": "markdown",
   "id": "f5d43d04",
   "metadata": {},
   "source": [
    "## 🎯 4) KPI (rappel rapide depuis C5.1.1)"
   ]
  },
  {
   "cell_type": "code",
   "execution_count": 5,
   "id": "156d3499",
   "metadata": {},
   "outputs": [
    {
     "data": {
      "application/vnd.microsoft.datawrangler.viewer.v0+json": {
       "columns": [
        {
         "name": "index",
         "rawType": "int64",
         "type": "integer"
        },
        {
         "name": "KPI",
         "rawType": "object",
         "type": "string"
        },
        {
         "name": "Cible",
         "rawType": "float64",
         "type": "float"
        }
       ],
       "ref": "37d2e9cf-4944-4b92-a4ce-277b2a920f0b",
       "rows": [
        [
         "0",
         "Émotions F1-macro",
         "0.6"
        ],
        [
         "1",
         "ABSA F1-macro",
         "0.6"
        ],
        [
         "2",
         "Sarcasme AUC",
         "0.75"
        ],
        [
         "3",
         "Latence démo (ms)",
         "200.0"
        ]
       ],
       "shape": {
        "columns": 2,
        "rows": 4
       }
      },
      "text/html": [
       "<div>\n",
       "<style scoped>\n",
       "    .dataframe tbody tr th:only-of-type {\n",
       "        vertical-align: middle;\n",
       "    }\n",
       "\n",
       "    .dataframe tbody tr th {\n",
       "        vertical-align: top;\n",
       "    }\n",
       "\n",
       "    .dataframe thead th {\n",
       "        text-align: right;\n",
       "    }\n",
       "</style>\n",
       "<table border=\"1\" class=\"dataframe\">\n",
       "  <thead>\n",
       "    <tr style=\"text-align: right;\">\n",
       "      <th></th>\n",
       "      <th>KPI</th>\n",
       "      <th>Cible</th>\n",
       "    </tr>\n",
       "  </thead>\n",
       "  <tbody>\n",
       "    <tr>\n",
       "      <th>0</th>\n",
       "      <td>Émotions F1-macro</td>\n",
       "      <td>0.60</td>\n",
       "    </tr>\n",
       "    <tr>\n",
       "      <th>1</th>\n",
       "      <td>ABSA F1-macro</td>\n",
       "      <td>0.60</td>\n",
       "    </tr>\n",
       "    <tr>\n",
       "      <th>2</th>\n",
       "      <td>Sarcasme AUC</td>\n",
       "      <td>0.75</td>\n",
       "    </tr>\n",
       "    <tr>\n",
       "      <th>3</th>\n",
       "      <td>Latence démo (ms)</td>\n",
       "      <td>200.00</td>\n",
       "    </tr>\n",
       "  </tbody>\n",
       "</table>\n",
       "</div>"
      ],
      "text/plain": [
       "                 KPI   Cible\n",
       "0  Émotions F1-macro    0.60\n",
       "1      ABSA F1-macro    0.60\n",
       "2       Sarcasme AUC    0.75\n",
       "3  Latence démo (ms)  200.00"
      ]
     },
     "execution_count": 5,
     "metadata": {},
     "output_type": "execute_result"
    }
   ],
   "source": [
    "kpi = pd.DataFrame([\n",
    "    {\"KPI\": \"Émotions F1-macro\", \"Cible\": 0.60},\n",
    "    {\"KPI\": \"ABSA F1-macro\", \"Cible\": 0.60},\n",
    "    {\"KPI\": \"Sarcasme AUC\", \"Cible\": 0.75},\n",
    "    {\"KPI\": \"Latence démo (ms)\", \"Cible\": 200},\n",
    "])\n",
    "kpi"
   ]
  },
  {
   "cell_type": "markdown",
   "id": "d7746ec0",
   "metadata": {},
   "source": [
    "## 🧭 5) Plan d'expérience (baseline → extensions)"
   ]
  },
  {
   "cell_type": "code",
   "execution_count": 6,
   "id": "0962ce02",
   "metadata": {},
   "outputs": [
    {
     "name": "stdout",
     "output_type": "stream",
     "text": [
      "• 1) Baseline binaire (TF-IDF word + LogReg, SelectK, calibration isotonic)\n",
      "• 2) TF-IDF char + ComplementNB en comparaison\n",
      "• 3) Option SVD + HGB si gain sur AP/ROC\n",
      "• 4) Émotions multi-label (HF) si besoin de granularité\n",
      "• 5) ABSA : aspects (KeyBERT/spaCy) + polarité\n",
      "• 6) Sarcasme : modèle HF + calibration\n",
      "• 7) Validation : PR-AUC, F1@seuil*, matrice confusion, error analysis\n",
      "• 8) Sauvegarde artefact + meta + monitoring (drift)\n"
     ]
    }
   ],
   "source": [
    "\n",
    "plan = [\n",
    "    \"1) Baseline binaire (TF-IDF word + LogReg, SelectK, calibration isotonic)\",\n",
    "    \"2) TF-IDF char + ComplementNB en comparaison\",\n",
    "    \"3) Option SVD + HGB si gain sur AP/ROC\",\n",
    "    \"4) Émotions multi-label (HF) si besoin de granularité\",\n",
    "    \"5) ABSA : aspects (KeyBERT/spaCy) + polarité\",\n",
    "    \"6) Sarcasme : modèle HF + calibration\",\n",
    "    \"7) Validation : PR-AUC, F1@seuil*, matrice confusion, error analysis\",\n",
    "    \"8) Sauvegarde artefact + meta + monitoring (drift)\"\n",
    "]\n",
    "for s in plan:\n",
    "    print(\"•\", s)\n"
   ]
  },
  {
   "cell_type": "markdown",
   "id": "35bf84da",
   "metadata": {},
   "source": [
    "## 📒 6) Registre d’expériences (structure à remplir en C5.2.x)"
   ]
  },
  {
   "cell_type": "code",
   "execution_count": 7,
   "id": "2a5c38cc",
   "metadata": {},
   "outputs": [
    {
     "data": {
      "application/vnd.microsoft.datawrangler.viewer.v0+json": {
       "columns": [
        {
         "name": "index",
         "rawType": "int64",
         "type": "integer"
        },
        {
         "name": "run_id",
         "rawType": "object",
         "type": "string"
        },
        {
         "name": "features",
         "rawType": "object",
         "type": "string"
        },
        {
         "name": "model",
         "rawType": "object",
         "type": "string"
        },
        {
         "name": "selectk",
         "rawType": "int64",
         "type": "integer"
        },
        {
         "name": "svd",
         "rawType": "int64",
         "type": "integer"
        },
        {
         "name": "calibration",
         "rawType": "object",
         "type": "string"
        },
        {
         "name": "AP",
         "rawType": "object",
         "type": "unknown"
        },
        {
         "name": "ROC_AUC",
         "rawType": "object",
         "type": "unknown"
        },
        {
         "name": "F1@0.5",
         "rawType": "object",
         "type": "unknown"
        },
        {
         "name": "F1@t*",
         "rawType": "object",
         "type": "unknown"
        },
        {
         "name": "threshold*",
         "rawType": "object",
         "type": "unknown"
        },
        {
         "name": "notes",
         "rawType": "object",
         "type": "string"
        },
        {
         "name": "created",
         "rawType": "object",
         "type": "string"
        }
       ],
       "ref": "2f0face0-870d-405c-b263-b8c57faae1ee",
       "rows": [
        [
         "0",
         "baseline_1757666982",
         "tfidf_word",
         "logreg",
         "20000",
         "0",
         "isotonic",
         null,
         null,
         null,
         null,
         null,
         "init",
         "2025-09-12 10:49:42"
        ]
       ],
       "shape": {
        "columns": 13,
        "rows": 1
       }
      },
      "text/html": [
       "<div>\n",
       "<style scoped>\n",
       "    .dataframe tbody tr th:only-of-type {\n",
       "        vertical-align: middle;\n",
       "    }\n",
       "\n",
       "    .dataframe tbody tr th {\n",
       "        vertical-align: top;\n",
       "    }\n",
       "\n",
       "    .dataframe thead th {\n",
       "        text-align: right;\n",
       "    }\n",
       "</style>\n",
       "<table border=\"1\" class=\"dataframe\">\n",
       "  <thead>\n",
       "    <tr style=\"text-align: right;\">\n",
       "      <th></th>\n",
       "      <th>run_id</th>\n",
       "      <th>features</th>\n",
       "      <th>model</th>\n",
       "      <th>selectk</th>\n",
       "      <th>svd</th>\n",
       "      <th>calibration</th>\n",
       "      <th>AP</th>\n",
       "      <th>ROC_AUC</th>\n",
       "      <th>F1@0.5</th>\n",
       "      <th>F1@t*</th>\n",
       "      <th>threshold*</th>\n",
       "      <th>notes</th>\n",
       "      <th>created</th>\n",
       "    </tr>\n",
       "  </thead>\n",
       "  <tbody>\n",
       "    <tr>\n",
       "      <th>0</th>\n",
       "      <td>baseline_1757666982</td>\n",
       "      <td>tfidf_word</td>\n",
       "      <td>logreg</td>\n",
       "      <td>20000</td>\n",
       "      <td>0</td>\n",
       "      <td>isotonic</td>\n",
       "      <td>None</td>\n",
       "      <td>None</td>\n",
       "      <td>None</td>\n",
       "      <td>None</td>\n",
       "      <td>None</td>\n",
       "      <td>init</td>\n",
       "      <td>2025-09-12 10:49:42</td>\n",
       "    </tr>\n",
       "  </tbody>\n",
       "</table>\n",
       "</div>"
      ],
      "text/plain": [
       "                run_id    features   model  selectk  svd calibration    AP  \\\n",
       "0  baseline_1757666982  tfidf_word  logreg    20000    0    isotonic  None   \n",
       "\n",
       "  ROC_AUC F1@0.5 F1@t* threshold* notes              created  \n",
       "0    None   None  None       None  init  2025-09-12 10:49:42  "
      ]
     },
     "execution_count": 7,
     "metadata": {},
     "output_type": "execute_result"
    }
   ],
   "source": [
    "\n",
    "import pandas as pd, time\n",
    "exp_cols = [\"run_id\",\"features\",\"model\",\"selectk\",\"svd\",\"calibration\",\"AP\",\"ROC_AUC\",\"F1@0.5\",\"F1@t*\",\"threshold*\",\"notes\",\"created\"]\n",
    "experiments = pd.DataFrame(columns=exp_cols)\n",
    "experiments.loc[len(experiments)] = [f\"baseline_{int(time.time())}\", \"tfidf_word\",\"logreg\",20000,0,\"isotonic\",None,None,None,None,None,\"init\",time.strftime(\"%Y-%m-%d %H:%M:%S\")]\n",
    "experiments"
   ]
  },
  {
   "cell_type": "markdown",
   "id": "fc6174bc",
   "metadata": {},
   "source": [
    "\n",
    "---\n",
    "## ✅ Rappel compétence & validation\n",
    "**Compétence :** *C5.1.2 — Stratégie de résolution*  \n",
    "**Pourquoi c’est validé (v2) :**\n",
    "- **Pas de re-EDA / re-normalisation** : on consomme le jeu **normalisé** de C5.1.1 (séparation claire).\n",
    "- **Stratégie** détaillée (tâches, baselines, extensions HF), **KPI** rappelés.\n",
    "- **Plan d’expériences** itératif et **registre** prêt à l’usage pour C5.2.x.\n"
   ]
  },
  {
   "cell_type": "markdown",
   "id": "8dfdf1a4",
   "metadata": {},
   "source": []
  },
  {
   "cell_type": "markdown",
   "id": "23e19493",
   "metadata": {},
   "source": []
  }
 ],
 "metadata": {
  "kernelspec": {
   "display_name": "monenv",
   "language": "python",
   "name": "python3"
  },
  "language_info": {
   "codemirror_mode": {
    "name": "ipython",
    "version": 3
   },
   "file_extension": ".py",
   "mimetype": "text/x-python",
   "name": "python",
   "nbconvert_exporter": "python",
   "pygments_lexer": "ipython3",
   "version": "3.10.16"
  }
 },
 "nbformat": 4,
 "nbformat_minor": 5
}
