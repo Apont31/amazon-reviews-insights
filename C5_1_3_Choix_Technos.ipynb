{
 "cells": [
  {
   "cell_type": "markdown",
   "id": "f4d5c7a7",
   "metadata": {},
   "source": [
    "\n",
    "# 🧰 C5.1.3 — Choix technologies / outils (Bloc 5)\n",
    "\n",
    "**Objectif :** justifier la pile **technique** (MVP → extensions), comparer les alternatives avec des **critères**, et fournir des **preuves minimales** : fichiers d'env, *smoke tests*, et contrats API/App.\n",
    "\n",
    "> **Contexte lié :**  \n",
    "> - C5.1.1 a produit un dataset **normalisé** (`data/interim/amazon_electronics_normalized.parquet|csv`).  \n",
    "> - C5.1.2 a figé la **stratégie** (tâches, KPI). Ici on choisit **les outils** pour exécuter cette stratégie.\n"
   ]
  },
  {
   "cell_type": "markdown",
   "id": "a5857e02",
   "metadata": {},
   "source": [
    "\n",
    "## 🎙️ Discours (1–2 min)\n",
    "> « Nous choisissons une pile **modulaire** et **local-first** :  \n",
    "> - **Cœur** : `pandas` + `scikit-learn` (TF‑IDF + LogReg / ComplementNB) pour un **MVP rapide**, **explicable** et **peu coûteux**.  \n",
    "> - **Démo** : `Streamlit` (UI) et `FastAPI` (service) pour exposer un artefact standard `joblib`.  \n",
    "> - **Extensions** : `spaCy`/`KeyBERT` pour l’**extraction d’aspects** ; `transformers`/`sentence-transformers` (avec `PyTorch`) pour **émotions fines** et **sarcasme** ; `Evidently` pour le **monitoring** ; `Prefect` pour l’**orchestration**.  \n",
    "> Les choix sont guidés par nos **KPI** (précision, latence < 200 ms en démo) et la **maintenabilité**. »\n"
   ]
  },
  {
   "cell_type": "markdown",
   "id": "d74b8750",
   "metadata": {},
   "source": [
    "## 1) Grille de critères — comparaison succincte"
   ]
  },
  {
   "cell_type": "code",
   "execution_count": 1,
   "id": "f0e69004",
   "metadata": {},
   "outputs": [
    {
     "data": {
      "application/vnd.microsoft.datawrangler.viewer.v0+json": {
       "columns": [
        {
         "name": "index",
         "rawType": "object",
         "type": "string"
        },
        {
         "name": "Perf",
         "rawType": "int64",
         "type": "integer"
        },
        {
         "name": "Latence/CPU",
         "rawType": "int64",
         "type": "integer"
        },
        {
         "name": "Simplicité",
         "rawType": "int64",
         "type": "integer"
        },
        {
         "name": "Écosystème",
         "rawType": "int64",
         "type": "integer"
        },
        {
         "name": "Explicabilité",
         "rawType": "int64",
         "type": "integer"
        },
        {
         "name": "Coût",
         "rawType": "int64",
         "type": "integer"
        },
        {
         "name": "Total",
         "rawType": "int64",
         "type": "integer"
        }
       ],
       "ref": "cf4a487d-1449-41b7-9a01-922627677109",
       "rows": [
        [
         "scikit-learn",
         "4",
         "5",
         "5",
         "5",
         "4",
         "5",
         "28"
        ],
        [
         "pandas",
         "2",
         "3",
         "5",
         "5",
         "5",
         "5",
         "25"
        ],
        [
         "Streamlit",
         "3",
         "5",
         "5",
         "4",
         "3",
         "5",
         "25"
        ],
        [
         "FastAPI",
         "3",
         "5",
         "4",
         "5",
         "3",
         "5",
         "25"
        ],
        [
         "Evidently",
         "3",
         "5",
         "4",
         "4",
         "4",
         "5",
         "25"
        ],
        [
         "spaCy",
         "3",
         "4",
         "4",
         "4",
         "3",
         "5",
         "23"
        ],
        [
         "Prefect",
         "3",
         "5",
         "4",
         "4",
         "3",
         "4",
         "23"
        ],
        [
         "sentence-transformers",
         "4",
         "3",
         "4",
         "5",
         "3",
         "4",
         "23"
        ],
        [
         "KeyBERT",
         "3",
         "3",
         "4",
         "4",
         "3",
         "5",
         "22"
        ],
        [
         "transformers+PyTorch",
         "5",
         "2",
         "3",
         "5",
         "3",
         "3",
         "21"
        ]
       ],
       "shape": {
        "columns": 7,
        "rows": 10
       }
      },
      "text/html": [
       "<div>\n",
       "<style scoped>\n",
       "    .dataframe tbody tr th:only-of-type {\n",
       "        vertical-align: middle;\n",
       "    }\n",
       "\n",
       "    .dataframe tbody tr th {\n",
       "        vertical-align: top;\n",
       "    }\n",
       "\n",
       "    .dataframe thead th {\n",
       "        text-align: right;\n",
       "    }\n",
       "</style>\n",
       "<table border=\"1\" class=\"dataframe\">\n",
       "  <thead>\n",
       "    <tr style=\"text-align: right;\">\n",
       "      <th></th>\n",
       "      <th>Perf</th>\n",
       "      <th>Latence/CPU</th>\n",
       "      <th>Simplicité</th>\n",
       "      <th>Écosystème</th>\n",
       "      <th>Explicabilité</th>\n",
       "      <th>Coût</th>\n",
       "      <th>Total</th>\n",
       "    </tr>\n",
       "  </thead>\n",
       "  <tbody>\n",
       "    <tr>\n",
       "      <th>scikit-learn</th>\n",
       "      <td>4</td>\n",
       "      <td>5</td>\n",
       "      <td>5</td>\n",
       "      <td>5</td>\n",
       "      <td>4</td>\n",
       "      <td>5</td>\n",
       "      <td>28</td>\n",
       "    </tr>\n",
       "    <tr>\n",
       "      <th>pandas</th>\n",
       "      <td>2</td>\n",
       "      <td>3</td>\n",
       "      <td>5</td>\n",
       "      <td>5</td>\n",
       "      <td>5</td>\n",
       "      <td>5</td>\n",
       "      <td>25</td>\n",
       "    </tr>\n",
       "    <tr>\n",
       "      <th>Streamlit</th>\n",
       "      <td>3</td>\n",
       "      <td>5</td>\n",
       "      <td>5</td>\n",
       "      <td>4</td>\n",
       "      <td>3</td>\n",
       "      <td>5</td>\n",
       "      <td>25</td>\n",
       "    </tr>\n",
       "    <tr>\n",
       "      <th>FastAPI</th>\n",
       "      <td>3</td>\n",
       "      <td>5</td>\n",
       "      <td>4</td>\n",
       "      <td>5</td>\n",
       "      <td>3</td>\n",
       "      <td>5</td>\n",
       "      <td>25</td>\n",
       "    </tr>\n",
       "    <tr>\n",
       "      <th>Evidently</th>\n",
       "      <td>3</td>\n",
       "      <td>5</td>\n",
       "      <td>4</td>\n",
       "      <td>4</td>\n",
       "      <td>4</td>\n",
       "      <td>5</td>\n",
       "      <td>25</td>\n",
       "    </tr>\n",
       "    <tr>\n",
       "      <th>spaCy</th>\n",
       "      <td>3</td>\n",
       "      <td>4</td>\n",
       "      <td>4</td>\n",
       "      <td>4</td>\n",
       "      <td>3</td>\n",
       "      <td>5</td>\n",
       "      <td>23</td>\n",
       "    </tr>\n",
       "    <tr>\n",
       "      <th>Prefect</th>\n",
       "      <td>3</td>\n",
       "      <td>5</td>\n",
       "      <td>4</td>\n",
       "      <td>4</td>\n",
       "      <td>3</td>\n",
       "      <td>4</td>\n",
       "      <td>23</td>\n",
       "    </tr>\n",
       "    <tr>\n",
       "      <th>sentence-transformers</th>\n",
       "      <td>4</td>\n",
       "      <td>3</td>\n",
       "      <td>4</td>\n",
       "      <td>5</td>\n",
       "      <td>3</td>\n",
       "      <td>4</td>\n",
       "      <td>23</td>\n",
       "    </tr>\n",
       "    <tr>\n",
       "      <th>KeyBERT</th>\n",
       "      <td>3</td>\n",
       "      <td>3</td>\n",
       "      <td>4</td>\n",
       "      <td>4</td>\n",
       "      <td>3</td>\n",
       "      <td>5</td>\n",
       "      <td>22</td>\n",
       "    </tr>\n",
       "    <tr>\n",
       "      <th>transformers+PyTorch</th>\n",
       "      <td>5</td>\n",
       "      <td>2</td>\n",
       "      <td>3</td>\n",
       "      <td>5</td>\n",
       "      <td>3</td>\n",
       "      <td>3</td>\n",
       "      <td>21</td>\n",
       "    </tr>\n",
       "  </tbody>\n",
       "</table>\n",
       "</div>"
      ],
      "text/plain": [
       "                       Perf  Latence/CPU  Simplicité  Écosystème  \\\n",
       "scikit-learn              4            5           5           5   \n",
       "pandas                    2            3           5           5   \n",
       "Streamlit                 3            5           5           4   \n",
       "FastAPI                   3            5           4           5   \n",
       "Evidently                 3            5           4           4   \n",
       "spaCy                     3            4           4           4   \n",
       "Prefect                   3            5           4           4   \n",
       "sentence-transformers     4            3           4           5   \n",
       "KeyBERT                   3            3           4           4   \n",
       "transformers+PyTorch      5            2           3           5   \n",
       "\n",
       "                       Explicabilité  Coût  Total  \n",
       "scikit-learn                       4     5     28  \n",
       "pandas                             5     5     25  \n",
       "Streamlit                          3     5     25  \n",
       "FastAPI                            3     5     25  \n",
       "Evidently                          4     5     25  \n",
       "spaCy                              3     5     23  \n",
       "Prefect                            3     4     23  \n",
       "sentence-transformers              3     4     23  \n",
       "KeyBERT                            3     5     22  \n",
       "transformers+PyTorch               3     3     21  "
      ]
     },
     "execution_count": 1,
     "metadata": {},
     "output_type": "execute_result"
    }
   ],
   "source": [
    "\n",
    "import pandas as pd\n",
    "criteria = [\"Perf\", \"Latence/CPU\", \"Simplicité\", \"Écosystème\", \"Explicabilité\", \"Coût\"]\n",
    "scores = {\n",
    "    \"pandas\":                [2, 3, 5, 5, 5, 5],\n",
    "    \"scikit-learn\":          [4, 5, 5, 5, 4, 5],\n",
    "    \"Streamlit\":             [3, 5, 5, 4, 3, 5],\n",
    "    \"FastAPI\":               [3, 5, 4, 5, 3, 5],\n",
    "    \"spaCy\":                 [3, 4, 4, 4, 3, 5],\n",
    "    \"KeyBERT\":               [3, 3, 4, 4, 3, 5],\n",
    "    \"sentence-transformers\": [4, 3, 4, 5, 3, 4],\n",
    "    \"transformers+PyTorch\":  [5, 2, 3, 5, 3, 3],\n",
    "    \"Evidently\":             [3, 5, 4, 4, 4, 5],\n",
    "    \"Prefect\":               [3, 5, 4, 4, 3, 4],\n",
    "}\n",
    "df = pd.DataFrame(scores).T\n",
    "df.columns = criteria\n",
    "df[\"Total\"] = df.sum(axis=1)\n",
    "df.sort_values(\"Total\", ascending=False)"
   ]
  },
  {
   "cell_type": "markdown",
   "id": "3a8ee7ea",
   "metadata": {},
   "source": [
    "## 2) Toggles d’environnement & chemins"
   ]
  },
  {
   "cell_type": "code",
   "execution_count": 2,
   "id": "46ed7c4c",
   "metadata": {},
   "outputs": [],
   "source": [
    "\n",
    "USE_GPU = True           # passe à True si GPU CUDA dispo pour fine-tuning HF\n",
    "INSTALL_EXT = True       # passe à True pour installer les extensions NLP/Deep\n",
    "PARQUET_NORM = \"data/interim/amazon_electronics_normalized.parquet\"\n",
    "CSV_NORM     = \"data/interim/amazon_electronics_normalized.csv\""
   ]
  },
  {
   "cell_type": "markdown",
   "id": "512be7c6",
   "metadata": {},
   "source": [
    "## 3) Écrire les fichiers d'environnement (requirements)"
   ]
  },
  {
   "cell_type": "code",
   "execution_count": 3,
   "id": "8742165e",
   "metadata": {},
   "outputs": [
    {
     "name": "stdout",
     "output_type": "stream",
     "text": [
      "Écrit : requirements-min.txt et requirements-extended.txt\n"
     ]
    }
   ],
   "source": [
    "\n",
    "from pathlib import Path\n",
    "Path(\"configs\").mkdir(parents=True, exist_ok=True)\n",
    "\n",
    "req_min = Path(\"requirements-min.txt\")\n",
    "req_ext = Path(\"requirements-extended.txt\")\n",
    "\n",
    "req_min.write_text(\"\"\"pandas>=2.1\n",
    "pyarrow>=15.0\n",
    "scikit-learn>=1.4\n",
    "joblib>=1.3\n",
    "matplotlib>=3.8\n",
    "pyyaml>=6.0\n",
    "fastapi>=0.111\n",
    "uvicorn[standard]>=0.30\n",
    "streamlit>=1.35\n",
    "evidently>=0.4\n",
    "prefect>=3.0\n",
    "\"\"\", encoding=\"utf-8\")\n",
    "\n",
    "req_ext.write_text(\"\"\"spacy>=3.7\n",
    "keybert>=0.7.0\n",
    "sentence-transformers>=2.7.0\n",
    "transformers>=4.42.0\n",
    "torch>=2.2.0\n",
    "\"\"\", encoding=\"utf-8\")\n",
    "\n",
    "print(\"Écrit :\", req_min, \"et\", req_ext)"
   ]
  },
  {
   "cell_type": "markdown",
   "id": "96fb6452",
   "metadata": {},
   "source": [
    "## 4) (Option) Installation locale"
   ]
  },
  {
   "cell_type": "code",
   "execution_count": null,
   "id": "7ce234bf",
   "metadata": {},
   "outputs": [
    {
     "name": "stdout",
     "output_type": "stream",
     "text": [
      "Note: you may need to restart the kernel to use updated packages.\n",
      "Note: you may need to restart the kernel to use updated packages.\n"
     ]
    }
   ],
   "source": [
    "\n",
    "# Décommente sur ton poste si besoin\n",
    "%pip install -q -r requirements-min.txt\n",
    "if INSTALL_EXT:\n",
    "    %pip install -q -r requirements-extended.txt\n"
   ]
  },
  {
   "cell_type": "markdown",
   "id": "be217e84",
   "metadata": {},
   "source": [
    "## 5) Smoke tests — imports/versions & GPU"
   ]
  },
  {
   "cell_type": "code",
   "execution_count": 7,
   "id": "1a8537b6",
   "metadata": {},
   "outputs": [
    {
     "name": "stdout",
     "output_type": "stream",
     "text": [
      "Python exe: c:\\Users\\antoi\\anaconda3\\envs\\monenv\\python.exe\n",
      "NumPy: 2.2.6\n",
      "Torch: 2.2.2 | CUDA build: 12.1 | CUDA is_available: True\n",
      "GPU: NVIDIA GeForce RTX 4060 Laptop GPU\n"
     ]
    }
   ],
   "source": [
    "# Cellule 1 — Chemin Python & versions clés\n",
    "import sys, numpy as np, torch\n",
    "print(\"Python exe:\", sys.executable)\n",
    "print(\"NumPy:\", np.__version__)\n",
    "print(\"Torch:\", torch.__version__, \"| CUDA build:\", torch.version.cuda, \"| CUDA is_available:\", torch.cuda.is_available())\n",
    "if torch.cuda.is_available():\n",
    "    print(\"GPU:\", torch.cuda.get_device_name(0))"
   ]
  },
  {
   "cell_type": "code",
   "execution_count": 8,
   "id": "417f4057",
   "metadata": {},
   "outputs": [
    {
     "name": "stdout",
     "output_type": "stream",
     "text": [
      "numpy: 2.2.6\n",
      "torch: 2.2.2 | CUDA: True\n",
      "spaCy: 3.8.2\n",
      "sentence-transformers: 2.7.0\n",
      "keybert: 0.8.5\n"
     ]
    }
   ],
   "source": [
    "import numpy as np, torch, spacy\n",
    "import sentence_transformers as st_mod\n",
    "import keybert as kb_mod\n",
    "\n",
    "print(\"numpy:\", np.__version__)\n",
    "print(\"torch:\", torch.__version__, \"| CUDA:\", torch.cuda.is_available())\n",
    "print(\"spaCy:\", spacy.__version__)\n",
    "print(\"sentence-transformers:\", st_mod.__version__)\n",
    "print(\"keybert:\", kb_mod.__version__)"
   ]
  },
  {
   "cell_type": "code",
   "execution_count": 9,
   "id": "d5d28b81",
   "metadata": {},
   "outputs": [
    {
     "name": "stdout",
     "output_type": "stream",
     "text": [
      "✓ pandas 2.2.3\n",
      "✓ sklearn 1.7.2\n",
      "✓ matplotlib 3.10.0\n",
      "✓ fastapi 0.115.12\n",
      "✓ streamlit 1.48.1\n",
      "✓ evidently 0.7.14\n",
      "✓ prefect 3.4.17\n",
      "✓ torch 2.2.2\n",
      "CUDA dispo : True\n",
      "✓ spacy 3.8.2\n",
      "✓ keybert 0.8.5\n",
      "✓ sentence_transformers 2.7.0\n",
      "✓ transformers 4.56.1\n"
     ]
    }
   ],
   "source": [
    "\n",
    "def try_import(pkg):\n",
    "    try:\n",
    "        mod = __import__(pkg)\n",
    "        ver = getattr(mod, \"__version__\", \"n/a\")\n",
    "        print(f\"✓ {pkg} {ver}\")\n",
    "        return True\n",
    "    except Exception as e:\n",
    "        print(f\"⚠️ {pkg} non dispo :\", e)\n",
    "        return False\n",
    "\n",
    "for p in [\"pandas\",\"sklearn\",\"matplotlib\",\"fastapi\",\"streamlit\",\"evidently\",\"prefect\"]:\n",
    "    try_import(p)\n",
    "\n",
    "# Extensions (optionnelles)\n",
    "# Essayez de les importer uniquement si vous avez fait l'installation extended\n",
    "ok_torch = try_import(\"torch\")\n",
    "if ok_torch:\n",
    "    import torch\n",
    "    print(\"CUDA dispo :\", torch.cuda.is_available())\n",
    "    for p in [\"spacy\",\"keybert\",\"sentence_transformers\",\"transformers\"]:\n",
    "        try_import(p)"
   ]
  },
  {
   "cell_type": "markdown",
   "id": "a548a1ce",
   "metadata": {},
   "source": [
    "## 6) Mini bench (option) — TF‑IDF + LogReg pour valider la latence du MVP"
   ]
  },
  {
   "cell_type": "code",
   "execution_count": 11,
   "id": "8b27fb53",
   "metadata": {},
   "outputs": [
    {
     "name": "stdout",
     "output_type": "stream",
     "text": [
      "✓ Chargé depuis : data/interim/amazon_electronics_normalized.parquet\n",
      "AP=0.982 | temps fit ~5280 ms | latence/texte (batch vectorized) ~0.0 ms | latence/texte (end-to-end) ~0.4 ms  (cible < 200 ms)\n"
     ]
    }
   ],
   "source": [
    "# === Bench TF-IDF + LogReg ===\n",
    "RUN_BENCH = True  # False pour désactiver\n",
    "\n",
    "if RUN_BENCH:\n",
    "    import time\n",
    "    from pathlib import Path\n",
    "    import pandas as pd\n",
    "    from sklearn.feature_extraction.text import TfidfVectorizer\n",
    "    from sklearn.linear_model import LogisticRegression\n",
    "    from sklearn.model_selection import train_test_split\n",
    "    from sklearn.metrics import average_precision_score\n",
    "\n",
    "    # ---- 1) Chargement dataset normalisé (parquet ou csv)\n",
    "    if Path(PARQUET_NORM).exists():\n",
    "        df = pd.read_parquet(PARQUET_NORM)\n",
    "        print(\"✓ Chargé depuis :\", PARQUET_NORM)\n",
    "    elif Path(CSV_NORM).exists():\n",
    "        df = pd.read_csv(CSV_NORM)\n",
    "        print(\"✓ Chargé depuis :\", CSV_NORM)\n",
    "    else:\n",
    "        raise FileNotFoundError(\"Exécute C5.1.1 pour générer le dataset normalisé.\")\n",
    "\n",
    "    df[\"review_body\"] = df[\"review_body\"].astype(str)\n",
    "    y = (pd.to_numeric(df[\"star_rating\"], errors=\"coerce\") >= 4).astype(int)\n",
    "\n",
    "    # ---- 2) Vectorisation TF-IDF (mots)\n",
    "    vec = TfidfVectorizer(stop_words=\"english\",\n",
    "                          max_features=50_000,\n",
    "                          ngram_range=(1, 2),\n",
    "                          min_df=3)\n",
    "    X = vec.fit_transform(df[\"review_body\"])\n",
    "\n",
    "    # On garde aussi le texte brut pour la latence end-to-end\n",
    "    Xtr, Xte, ytr, yte, tr_txt, te_txt = train_test_split(\n",
    "        X, y, df[\"review_body\"], test_size=0.2, stratify=y, random_state=42\n",
    "    )\n",
    "\n",
    "    # ---- 3) Entraînement\n",
    "    t0 = time.time()\n",
    "    clf = LogisticRegression(max_iter=2000, class_weight=\"balanced\").fit(Xtr, ytr)\n",
    "    fit_ms = (time.time() - t0) * 1000\n",
    "\n",
    "    # ---- 4a) Latence \"moteur\" (prédiction sur un batch déjà vectorisé)\n",
    "    n = min(Xte.shape[0], 100)\n",
    "    sample = Xte[:n]\n",
    "\n",
    "    # warm-up (évite le coût du premier appel)\n",
    "    _ = clf.predict_proba(sample[:1])\n",
    "\n",
    "    t1 = time.time()\n",
    "    _ = clf.predict_proba(sample)\n",
    "    infer_ms_batch = (time.time() - t1) * 1000 / sample.shape[0]  # <-- shape[0], pas len()\n",
    "\n",
    "    # ---- 4b) Latence end-to-end (vectorisation + prédiction, texte par texte)\n",
    "    texts = te_txt.iloc[:n].tolist()\n",
    "\n",
    "    # warm-up e2e\n",
    "    _ = clf.predict_proba(vec.transform([texts[0]]))\n",
    "\n",
    "    t2 = time.time()\n",
    "    for t in texts:\n",
    "        _ = clf.predict_proba(vec.transform([t]))\n",
    "    infer_ms_e2e = (time.time() - t2) * 1000 / n\n",
    "\n",
    "    # ---- 5) Qualité\n",
    "    ap = average_precision_score(yte, clf.predict_proba(Xte)[:, 1])\n",
    "\n",
    "    print(\n",
    "        f\"AP={ap:.3f} | temps fit ~{fit_ms:.0f} ms | \"\n",
    "        f\"latence/texte (batch vectorized) ~{infer_ms_batch:.1f} ms | \"\n",
    "        f\"latence/texte (end-to-end) ~{infer_ms_e2e:.1f} ms  (cible < 200 ms)\"\n",
    "    )\n",
    "else:\n",
    "    print(\"Bench désactivé (RUN_BENCH=False).\")"
   ]
  },
  {
   "cell_type": "markdown",
   "id": "2d8dc1bd",
   "metadata": {},
   "source": [
    "## 7) Contrats — générer les squelettes API & App (compatibles artefact joblib)"
   ]
  },
  {
   "cell_type": "code",
   "execution_count": 12,
   "id": "f04fd065",
   "metadata": {},
   "outputs": [
    {
     "name": "stdout",
     "output_type": "stream",
     "text": [
      "Écrit → api/main.py et app/streamlit_app.py\n"
     ]
    }
   ],
   "source": [
    "\n",
    "from pathlib import Path\n",
    "Path(\"api\").mkdir(exist_ok=True, parents=True)\n",
    "Path(\"app\").mkdir(exist_ok=True, parents=True)\n",
    "\n",
    "api_code = '''from fastapi import FastAPI\n",
    "from pydantic import BaseModel\n",
    "from joblib import load\n",
    "\n",
    "app = FastAPI(title=\"Amazon Reviews Insights API\")\n",
    "ART_PATH = \"models/sentiment_v1.joblib\"\n",
    "_art = None\n",
    "\n",
    "class InText(BaseModel):\n",
    "    text: str\n",
    "\n",
    "@app.on_event(\"startup\")\n",
    "def _load():\n",
    "    global _art\n",
    "    try:\n",
    "        _art = load(ART_PATH)\n",
    "    except Exception as e:\n",
    "        _art = None\n",
    "        print(\"WARN: artefact non chargé :\", e)\n",
    "\n",
    "@app.get(\"/health\")\n",
    "def health():\n",
    "    return {\"ok\": _art is not None}\n",
    "\n",
    "@app.post(\"/predict\")\n",
    "def predict(inp: InText):\n",
    "    assert _art is not None, \"Artefact manquant\"\n",
    "    vec, clf = _art[\"vectorizer\"], _art[\"model\"]\n",
    "    X = vec.transform([inp.text])\n",
    "    proba = float(clf.predict_proba(X)[0,1])\n",
    "    return {\"proba_pos\": proba, \"label\": int(proba >= 0.5)}\n",
    "'''\n",
    "Path(\"api/main.py\").write_text(api_code, encoding=\"utf-8\")\n",
    "\n",
    "st_code = '''import streamlit as st\n",
    "from joblib import load\n",
    "\n",
    "st.set_page_config(page_title=\"Amazon Reviews — Démo\", page_icon=\"💬\", layout=\"wide\")\n",
    "st.title(\"💬 Amazon Reviews — Démo (MVP)\")\n",
    "\n",
    "@st.cache_resource\n",
    "def artefact():\n",
    "    return load(\"models/sentiment_v1.joblib\")\n",
    "\n",
    "try:\n",
    "    art = artefact()\n",
    "    st.success(\"Artefact chargé.\")\n",
    "except Exception as e:\n",
    "    st.error(f\"Impossible de charger l'artefact : {e}\")\n",
    "    st.stop()\n",
    "\n",
    "txt = st.text_area(\"Collez un avis :\", \"Great battery life but the screen is dim.\", height=160)\n",
    "if st.button(\"Analyser\"):\n",
    "    vec, clf = art[\"vectorizer\"], art[\"model\"]\n",
    "    proba = float(clf.predict_proba(vec.transform([txt]))[0,1])\n",
    "    st.metric(\"Probabilité Positive\", f\"{proba:.3f}\")\n",
    "    st.write(\"Label :\", \"**Positif**\" if proba>=0.5 else \"**Négatif**\")\n",
    "'''\n",
    "Path(\"app/streamlit_app.py\").write_text(st_code, encoding=\"utf-8\")\n",
    "\n",
    "print(\"Écrit → api/main.py et app/streamlit_app.py\")"
   ]
  },
  {
   "cell_type": "markdown",
   "id": "5f6e8c57",
   "metadata": {},
   "source": [
    "\n",
    "## ✅ Rappel à la compétence & pourquoi c’est validé\n",
    "**Compétence :** *C5.1.3 — Choix technologies/outils*\n",
    "\n",
    "- **Grille de critères** et comparaison argumentée (MVP vs extensions).\n",
    "- **Fichiers d’environnement** générés (`requirements-min.txt`, `requirements-extended.txt`).\n",
    "- **Smoke tests** (imports/versions, option GPU) et mini **bench** de latence du MVP.\n",
    "- **Contrats** techniques (API FastAPI + App Streamlit) compatibles avec l’artefact standard `models/sentiment_v1.joblib`.\n",
    "- **Traçabilité/reproductibilité** assurées (requirements + dossiers `api/` & `app/` écrits)."
   ]
  },
  {
   "cell_type": "markdown",
   "id": "59cfa222",
   "metadata": {},
   "source": []
  }
 ],
 "metadata": {
  "kernelspec": {
   "display_name": "monenv",
   "language": "python",
   "name": "python3"
  },
  "language_info": {
   "codemirror_mode": {
    "name": "ipython",
    "version": 3
   },
   "file_extension": ".py",
   "mimetype": "text/x-python",
   "name": "python",
   "nbconvert_exporter": "python",
   "pygments_lexer": "ipython3",
   "version": "3.10.16"
  }
 },
 "nbformat": 4,
 "nbformat_minor": 5
}
